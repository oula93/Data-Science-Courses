{
 "cells": [
  {
   "cell_type": "code",
   "execution_count": 226,
   "id": "ec3bf434",
   "metadata": {},
   "outputs": [],
   "source": [
    "#pip install selenium\n",
    "from selenium import webdriver\n",
    "from selenium.webdriver.chrome.options import Options\n",
    "from selenium.webdriver.common.keys import Keys #gives the common keyboard keys\n",
    "from selenium.webdriver.common.action_chains import ActionChains\n",
    "from selenium.webdriver.common.by import By\n",
    "from selenium.webdriver.support.ui import WebDriverWait\n",
    "from selenium.webdriver.support import expected_conditions as EC"
   ]
  },
  {
   "cell_type": "code",
   "execution_count": 227,
   "id": "7a33ad5e",
   "metadata": {},
   "outputs": [],
   "source": [
    "import pandas as pd\n",
    "import numpy as np\n",
    "from datetime import datetime  \n",
    "from time import sleep\n",
    "import urllib \n",
    "from PIL import Image\n",
    "import openpyxl\n",
    "from io import BytesIO"
   ]
  },
  {
   "cell_type": "code",
   "execution_count": 228,
   "id": "a98c959a",
   "metadata": {},
   "outputs": [],
   "source": [
    "import sys\n",
    "import os\n",
    "username = os.getlogin()"
   ]
  },
  {
   "cell_type": "code",
   "execution_count": 229,
   "id": "5dbee81b",
   "metadata": {},
   "outputs": [],
   "source": [
    "#Libraries for reading wind speed from image\n",
    "import re    \n",
    "#pip install opencv-python\n",
    "import cv2\n",
    "#https://towardsdatascience.com/read-text-from-image-with-one-line-of-python-code-c22ede074cac\n",
    "#pip install pytesseract\n",
    "import pytesseract\n",
    "#Download .exe file from https://github.com/UB-Mannheim/tesseract/wiki\n",
    "#On windows we need to tell python where tesseract is installed\n",
    "pytesseract.pytesseract.tesseract_cmd = r\"C:\\Users\\{}\\AppData\\Local\\Programs\\Tesseract-OCR\\tesseract.exe\".format(username)"
   ]
  },
  {
   "cell_type": "code",
   "execution_count": 230,
   "id": "96388b94",
   "metadata": {},
   "outputs": [],
   "source": [
    "from lxml import etree"
   ]
  },
  {
   "cell_type": "code",
   "execution_count": 231,
   "id": "153bc39b",
   "metadata": {},
   "outputs": [],
   "source": [
    "import time"
   ]
  },
  {
   "cell_type": "code",
   "execution_count": 6,
   "id": "1f3c60d6",
   "metadata": {},
   "outputs": [],
   "source": [
    "#pip install pykml\n",
    "#from pykml import parser"
   ]
  },
  {
   "cell_type": "code",
   "execution_count": 6,
   "id": "7da18e58",
   "metadata": {},
   "outputs": [],
   "source": [
    "#import matplotlib.pyplot as plt"
   ]
  },
  {
   "cell_type": "markdown",
   "id": "33503edb",
   "metadata": {},
   "source": [
    "## Google Earth Insert Rose"
   ]
  },
  {
   "cell_type": "code",
   "execution_count": 244,
   "id": "dee3bb6e",
   "metadata": {},
   "outputs": [
    {
     "name": "stderr",
     "output_type": "stream",
     "text": [
      "<ipython-input-233-0b4731fe71f7>:11: DeprecationWarning: executable_path has been deprecated, please pass in a Service object\n",
      "  driver = webdriver.Chrome(options=options, executable_path=PATH)  #set up the driver\n"
     ]
    },
    {
     "name": "stdout",
     "output_type": "stream",
     "text": [
      "\n",
      "Success!\n",
      "3 min 22 s\n"
     ]
    }
   ],
   "source": [
    "start = time.time()\n",
    "\n",
    "PATH = r\"C:\\Program Files (x86)\\chromedriver.exe\"\n",
    "\n",
    "kml_path = r\"C:\\Users\\oula.aabkari\\Desktop\\Nedo_Test\\test_kml.kml\"\n",
    "\n",
    "#get the dataframe with: pin name, lats, lons, wind speed, image source\n",
    "df = kml_parser(kml_path)\n",
    "df['lats'] = df['lats'].map(coords_converter)\n",
    "df['lons'] = df['lons'].map(coords_converter)\n",
    "\n",
    "for i in range(len(df)):   #loop through the coordinate rows    \n",
    "    \n",
    "    lat, lon = df['lats'][i], df['lons'][i]\n",
    "    \n",
    "    #get the image url of the wind rose and add it to the dataframe\n",
    "    rose_source = get_rose_from_coords(lat,lon)  \n",
    "    df.loc[i,'img_src'] = rose_source\n",
    "    \n",
    "    #extract the average speed from the image and add it to the dataframe\n",
    "    avg_speed = get_avg_speed(rose_source)      \n",
    "    df.loc[i,'avg_speed'] = avg_speed\n",
    "\n",
    "#write the wind rose images to the kml file\n",
    "kml_writer(kml_path)\n",
    "    \n",
    "print('\\nSuccess!')\n",
    "\n",
    "end = time.time()\n",
    "seconds = end - start\n",
    "m, s = divmod(seconds, 60)\n",
    "print('{} min {} s'.format(round(m),round(s)))"
   ]
  },
  {
   "cell_type": "code",
   "execution_count": 200,
   "id": "4cde733b",
   "metadata": {},
   "outputs": [
    {
     "name": "stdout",
     "output_type": "stream",
     "text": [
      "2 min 43 s\n"
     ]
    }
   ],
   "source": [
    "seconds = end - start\n",
    "m, s = divmod(seconds, 60)\n",
    "print('{} min {} s'.format(round(m),round(s)))"
   ]
  },
  {
   "cell_type": "code",
   "execution_count": 245,
   "id": "8eb4eabf",
   "metadata": {},
   "outputs": [
    {
     "data": {
      "text/html": [
       "<div>\n",
       "<style scoped>\n",
       "    .dataframe tbody tr th:only-of-type {\n",
       "        vertical-align: middle;\n",
       "    }\n",
       "\n",
       "    .dataframe tbody tr th {\n",
       "        vertical-align: top;\n",
       "    }\n",
       "\n",
       "    .dataframe thead th {\n",
       "        text-align: right;\n",
       "    }\n",
       "</style>\n",
       "<table border=\"1\" class=\"dataframe\">\n",
       "  <thead>\n",
       "    <tr style=\"text-align: right;\">\n",
       "      <th></th>\n",
       "      <th>pin_name</th>\n",
       "      <th>lons</th>\n",
       "      <th>lats</th>\n",
       "      <th>avg_speed</th>\n",
       "      <th>img_src</th>\n",
       "    </tr>\n",
       "  </thead>\n",
       "  <tbody>\n",
       "    <tr>\n",
       "      <th>0</th>\n",
       "      <td>5</td>\n",
       "      <td>(139, 52, 9)</td>\n",
       "      <td>(40, 26, 27)</td>\n",
       "      <td>7.8</td>\n",
       "      <td>https://appraw1.infoc.nedo.go.jp/nedo/winddraw...</td>\n",
       "    </tr>\n",
       "    <tr>\n",
       "      <th>1</th>\n",
       "      <td>4</td>\n",
       "      <td>(139, 52, 2)</td>\n",
       "      <td>(40, 29, 29)</td>\n",
       "      <td>19.0</td>\n",
       "      <td>https://appraw1.infoc.nedo.go.jp/nedo/winddraw...</td>\n",
       "    </tr>\n",
       "    <tr>\n",
       "      <th>2</th>\n",
       "      <td>3</td>\n",
       "      <td>(139, 52, 32)</td>\n",
       "      <td>(40, 32, 47)</td>\n",
       "      <td>7.8</td>\n",
       "      <td>https://appraw1.infoc.nedo.go.jp/nedo/winddraw...</td>\n",
       "    </tr>\n",
       "    <tr>\n",
       "      <th>3</th>\n",
       "      <td>2</td>\n",
       "      <td>(139, 50, 3)</td>\n",
       "      <td>(40, 35, 49)</td>\n",
       "      <td>8.5</td>\n",
       "      <td>https://appraw1.infoc.nedo.go.jp/nedo/winddraw...</td>\n",
       "    </tr>\n",
       "    <tr>\n",
       "      <th>4</th>\n",
       "      <td>1</td>\n",
       "      <td>(139, 52, 25)</td>\n",
       "      <td>(40, 38, 56)</td>\n",
       "      <td>8.5</td>\n",
       "      <td>https://appraw1.infoc.nedo.go.jp/nedo/winddraw...</td>\n",
       "    </tr>\n",
       "    <tr>\n",
       "      <th>5</th>\n",
       "      <td>6</td>\n",
       "      <td>(139, 56, 26)</td>\n",
       "      <td>(40, 34, 48)</td>\n",
       "      <td>1.6</td>\n",
       "      <td>https://appraw1.infoc.nedo.go.jp/nedo/winddraw...</td>\n",
       "    </tr>\n",
       "    <tr>\n",
       "      <th>6</th>\n",
       "      <td>7</td>\n",
       "      <td>(139, 57, 48)</td>\n",
       "      <td>(40, 34, 48)</td>\n",
       "      <td>6.9</td>\n",
       "      <td>https://appraw1.infoc.nedo.go.jp/nedo/winddraw...</td>\n",
       "    </tr>\n",
       "    <tr>\n",
       "      <th>7</th>\n",
       "      <td>8</td>\n",
       "      <td>(139, 58, 52)</td>\n",
       "      <td>(40, 34, 51)</td>\n",
       "      <td>6.9</td>\n",
       "      <td>https://appraw1.infoc.nedo.go.jp/nedo/winddraw...</td>\n",
       "    </tr>\n",
       "    <tr>\n",
       "      <th>8</th>\n",
       "      <td>10</td>\n",
       "      <td>(139, 59, 59)</td>\n",
       "      <td>(40, 34, 21)</td>\n",
       "      <td>15.0</td>\n",
       "      <td>https://appraw1.infoc.nedo.go.jp/nedo/winddraw...</td>\n",
       "    </tr>\n",
       "    <tr>\n",
       "      <th>9</th>\n",
       "      <td>9</td>\n",
       "      <td>(140, 0, 8)</td>\n",
       "      <td>(40, 34, 55)</td>\n",
       "      <td>6.9</td>\n",
       "      <td>https://appraw1.infoc.nedo.go.jp/nedo/winddraw...</td>\n",
       "    </tr>\n",
       "  </tbody>\n",
       "</table>\n",
       "</div>"
      ],
      "text/plain": [
       "  pin_name           lons          lats  avg_speed  \\\n",
       "0        5   (139, 52, 9)  (40, 26, 27)        7.8   \n",
       "1        4   (139, 52, 2)  (40, 29, 29)       19.0   \n",
       "2        3  (139, 52, 32)  (40, 32, 47)        7.8   \n",
       "3        2   (139, 50, 3)  (40, 35, 49)        8.5   \n",
       "4        1  (139, 52, 25)  (40, 38, 56)        8.5   \n",
       "5        6  (139, 56, 26)  (40, 34, 48)        1.6   \n",
       "6        7  (139, 57, 48)  (40, 34, 48)        6.9   \n",
       "7        8  (139, 58, 52)  (40, 34, 51)        6.9   \n",
       "8       10  (139, 59, 59)  (40, 34, 21)       15.0   \n",
       "9        9    (140, 0, 8)  (40, 34, 55)        6.9   \n",
       "\n",
       "                                             img_src  \n",
       "0  https://appraw1.infoc.nedo.go.jp/nedo/winddraw...  \n",
       "1  https://appraw1.infoc.nedo.go.jp/nedo/winddraw...  \n",
       "2  https://appraw1.infoc.nedo.go.jp/nedo/winddraw...  \n",
       "3  https://appraw1.infoc.nedo.go.jp/nedo/winddraw...  \n",
       "4  https://appraw1.infoc.nedo.go.jp/nedo/winddraw...  \n",
       "5  https://appraw1.infoc.nedo.go.jp/nedo/winddraw...  \n",
       "6  https://appraw1.infoc.nedo.go.jp/nedo/winddraw...  \n",
       "7  https://appraw1.infoc.nedo.go.jp/nedo/winddraw...  \n",
       "8  https://appraw1.infoc.nedo.go.jp/nedo/winddraw...  \n",
       "9  https://appraw1.infoc.nedo.go.jp/nedo/winddraw...  "
      ]
     },
     "execution_count": 245,
     "metadata": {},
     "output_type": "execute_result"
    }
   ],
   "source": [
    "df"
   ]
  },
  {
   "cell_type": "markdown",
   "id": "19ab66f8",
   "metadata": {},
   "source": [
    "## NEDO SCRAPRING"
   ]
  },
  {
   "cell_type": "markdown",
   "id": "325439e8",
   "metadata": {},
   "source": [
    "1. Downlaod the chrome web driver from:\n",
    "https://sites.google.com/chromium.org/driver/\n",
    "\n",
    "2. Copy the .exe file to C:\\Program Files (x86)"
   ]
  },
  {
   "cell_type": "code",
   "execution_count": 207,
   "id": "c468bc9e",
   "metadata": {
    "collapsed": true
   },
   "outputs": [
    {
     "ename": "TypeError",
     "evalue": "get_rose_from_coords() missing 1 required positional argument: 'lon'",
     "output_type": "error",
     "traceback": [
      "\u001b[1;31m---------------------------------------------------------------------------\u001b[0m",
      "\u001b[1;31mTypeError\u001b[0m                                 Traceback (most recent call last)",
      "\u001b[1;32m<ipython-input-207-707e9c65e5f5>\u001b[0m in \u001b[0;36m<module>\u001b[1;34m\u001b[0m\n\u001b[0;32m     21\u001b[0m \u001b[1;33m\u001b[0m\u001b[0m\n\u001b[0;32m     22\u001b[0m     \u001b[1;31m#get the image url of the wind rose\u001b[0m\u001b[1;33m\u001b[0m\u001b[1;33m\u001b[0m\u001b[1;33m\u001b[0m\u001b[0m\n\u001b[1;32m---> 23\u001b[1;33m     \u001b[0mrose_source\u001b[0m \u001b[1;33m=\u001b[0m \u001b[0mget_rose_from_coords\u001b[0m\u001b[1;33m(\u001b[0m\u001b[0mi\u001b[0m\u001b[1;33m)\u001b[0m\u001b[1;33m\u001b[0m\u001b[1;33m\u001b[0m\u001b[0m\n\u001b[0m\u001b[0;32m     24\u001b[0m \u001b[1;33m\u001b[0m\u001b[0m\n\u001b[0;32m     25\u001b[0m     \u001b[1;31m#extract the average speed from the image\u001b[0m\u001b[1;33m\u001b[0m\u001b[1;33m\u001b[0m\u001b[1;33m\u001b[0m\u001b[0m\n",
      "\u001b[1;31mTypeError\u001b[0m: get_rose_from_coords() missing 1 required positional argument: 'lon'"
     ]
    }
   ],
   "source": [
    "#==========View the Progress of the Running Process==============\n",
    "# for i in range(21):\n",
    "#     sys.stdout.write('\\r')\n",
    "#     # the exact output you're looking for:\n",
    "#     sys.stdout.write(\"Web Scraping Process Is Running: [%-20s] %d%%\" % ('='*i, 5*i))\n",
    "#     sys.stdout.flush()\n",
    "#     sleep(0.40)\n",
    "    \n",
    "\n",
    "#==========================Main===================================\n",
    "\n",
    "PATH = r\"C:\\Program Files (x86)\\chromedriver.exe\"\n",
    "\n",
    "file_path = \"スクリーニングまとめ.xlsx\"\n",
    "\n",
    "coords = get_coords(file_path)  #get the coordinates from xlsx file\n",
    "\n",
    "wb = openpyxl.load_workbook(file_path)\n",
    "\n",
    "for i in range(coords.shape[0]):   #loop through the coordinate rows    \n",
    "    \n",
    "    #get the image url of the wind rose\n",
    "    rose_source = get_rose_from_coords(i)  \n",
    "    \n",
    "    #extract the average speed from the image\n",
    "    avg_speed = get_avg_speed(rose_source)         \n",
    "\n",
    "    #Create a new sheet 'i+1'\n",
    "    new_sheet = wb.copy_worksheet(wb['【個別】風況＆EADAS'])\n",
    "    new_sheet.title = str(i+1)\n",
    "\n",
    "    #Add the image on sheet 'i' Cells A4-A22\n",
    "    #1/ By saving it\n",
    "    #image_name = datetime.now().strftime('%d-%m-%Y-%H%M%S.png')\n",
    "    #urllib.request.urlretrieve(rose_source,image_name)\n",
    "    #img = openpyxl.drawing.image.Image(image_name)\n",
    "\n",
    "    #2/ By fetching it from url\n",
    "    file = BytesIO(urllib.request.urlopen(rose_source).read())\n",
    "    pil_img = Image.open(file)\n",
    "    img = openpyxl.drawing.image.Image(pil_img)\n",
    "\n",
    "    img.width = 430\n",
    "    img.height = 360\n",
    "    new_sheet.add_image(img, 'A4')\n",
    "\n",
    "    wb.move_sheet(new_sheet,offset=-4)\n",
    "\n",
    "    #Insert wind speed on sheet '一覧' K column\n",
    "    cell_num = 'K'+str(i+5)\n",
    "    wb['一覧'][cell_num] = avg_speed\n",
    "\n",
    "    \n",
    "#save it as a new file\n",
    "new_name = datetime.now().strftime('%d-%m-%Y-%H%M%S.xlsx')  \n",
    "wb.save(new_name)\n",
    "wb.close()\n",
    "\n",
    "print('\\nSuccess!')"
   ]
  },
  {
   "cell_type": "code",
   "execution_count": 232,
   "id": "d8559fbb",
   "metadata": {},
   "outputs": [],
   "source": [
    "#========================Functions=================================\n",
    "\n",
    "def get_coords(file_path):\n",
    "    \"\"\"\n",
    "    returns a dataframe with latitudes and longitudes \n",
    "    \"\"\"\n",
    "    coords = pd.read_excel(file_path, sheet_name=\"一覧\",usecols=[2,5],skiprows=[0,1,2,3],header=None,names=['lats','lons'])\n",
    "    coords.dropna(inplace=True)\n",
    "    coords = coords.astype('str')\n",
    "    coords = coords.applymap(lambda s: re.split('[°\\'\"]',s))\n",
    "    \n",
    "    return coords"
   ]
  },
  {
   "cell_type": "code",
   "execution_count": 233,
   "id": "00f61c48",
   "metadata": {},
   "outputs": [],
   "source": [
    "def get_rose_from_coords(lat,lon):\n",
    "    \"\"\"\n",
    "    Takes the row number from which to read coordinates.\n",
    "    Returns the Wind Rose URL of the coordinates.\n",
    "    \"\"\"\n",
    "    \n",
    "    #Set the driver to run headless\n",
    "    options = Options()\n",
    "    options.headless = True\n",
    "    \n",
    "    driver = webdriver.Chrome(options=options, executable_path=PATH)  #set up the driver\n",
    "    #driver = webdriver.Chrome(executable_path=PATH)  #set up the driver\n",
    "    \n",
    "    driver.get(\"https://appraw1.infoc.nedo.go.jp/nedo/webgis\") \n",
    "    \n",
    "    #Click on 70m 地上高\n",
    "    elevation = driver.find_element(by='xpath',value=\"/html/body/div/div[2]/div[2]/div/div/div[1]/map/area[1]\")\n",
    "    elevation.click()\n",
    "    \n",
    "    #Click twice on the map\n",
    "    map1 = driver.find_element(by='xpath', value='//*[@id=\"contents\"]/table/tbody/tr[2]/td[2]/map/area[17]')\n",
    "    map1.click()\n",
    "\n",
    "    map2 = driver.find_element(by='xpath', value='//*[@id=\"contents\"]/table/tbody/tr[2]/td[2]/map/area[2]')\n",
    "    map2.click()\n",
    "\n",
    "    #Click on 緯度経度 (coords search button)\n",
    "    search_coords = driver.find_element(by='name', value=\"navi_btn_kensakull\")\n",
    "    search_coords.click()\n",
    "\n",
    "    #A new window will open, so switch the driver to that window:\n",
    "    driver.switch_to.window(driver.window_handles[1])\n",
    "\n",
    "    #Input coordinates\n",
    "    x_dgr = driver.find_element(by='name', value=\"x_dgr\")\n",
    "    x_dgr.send_keys(lon[0])\n",
    "\n",
    "    x_min = driver.find_element(by='name', value=\"x_min\")\n",
    "    x_min.send_keys(lon[1])\n",
    "\n",
    "    x_sec = driver.find_element(by='name', value=\"x_sec\")\n",
    "    x_sec.send_keys(lon[2])\n",
    "\n",
    "    y_dgr = driver.find_element(by='name', value=\"y_dgr\")\n",
    "    y_dgr.send_keys(lat[0])\n",
    "\n",
    "    y_min = driver.find_element(by='name', value=\"y_min\")\n",
    "    y_min.send_keys(lat[1])\n",
    "\n",
    "    y_sec = driver.find_element(by='name', value=\"y_sec\")\n",
    "    y_sec.send_keys(lat[2])\n",
    "\n",
    "    #Search for coordinates\n",
    "    search = driver.find_element(by='xpath', value='/html/body/div/form/table/tbody/tr[3]/td/input[1]')\n",
    "    search.click()\n",
    "    \n",
    "    #Coords window closes, so switch the driver back to the first window\n",
    "    driver.switch_to.window(driver.window_handles[0])\n",
    "\n",
    "    #Click on 風配図\n",
    "    get_rose = driver.find_element(by='name', value='navi_btn_fuhaizu')\n",
    "    get_rose.click()\n",
    "    \n",
    "    #Click on the center of the resulting map\n",
    "    result_map = driver.find_element(by='xpath', value='//*[@id=\"jsmap_mapimg2\"]')\n",
    "    w, h = result_map.size['width'], result_map.size['height']\n",
    "    act = ActionChains(driver)\n",
    "    #Offsets are relative to the top-left corner of the element.\n",
    "    #Will set the offset to w/2,h/2 so as to move to the exact center of the elemnt\n",
    "    #When you call perform(), the events are fired in the order they are queued up\n",
    "    act.move_to_element_with_offset(result_map,w/2,h/2)\n",
    "    sleep(5)\n",
    "    act.click().perform()\n",
    "    \n",
    "    #Wait til the action is performed\n",
    "    try:\n",
    "        element = WebDriverWait(driver, 10).until(EC.visibility_of_element_located((By.XPATH,'//*[@id=\"contents\"]/table/tbody/tr[2]/td[2]/img')))\n",
    "    \n",
    "    finally:\n",
    "        rose = driver.find_element(by='xpath',value='//*[@id=\"contents\"]/table/tbody/tr[2]/td[2]/img')\n",
    "        rose_source = rose.get_attribute('src')\n",
    "        driver.quit()\n",
    "\n",
    "    return rose_source  "
   ]
  },
  {
   "cell_type": "code",
   "execution_count": 234,
   "id": "6412b921",
   "metadata": {},
   "outputs": [],
   "source": [
    "def get_avg_speed(url):\n",
    "    \"\"\"\n",
    "    Converts the Widn Rose url into a cv2 image (numpy array)\n",
    "    Extracts the average wind speed from the image\n",
    "    Retunrs it in float.\n",
    "    \"\"\"\n",
    "    req = urllib.request.urlopen(url)\n",
    "    arr = np.asarray(bytearray(req.read()), dtype=np.uint8)\n",
    "    img = cv2.imdecode(arr, -1) # 'Load it as it is'\n",
    "    \n",
    "    cropped_img = img[:50,400:426]\n",
    "    text_img = pytesseract.image_to_string(cropped_img,config='--psm 6 --oem 3 -c tessedit_char_whitelist=0123456789.')\n",
    "    avg_speed = float(re.match(r'(.*)\\n',text_img).group(0))\n",
    "    \n",
    "    return avg_speed"
   ]
  },
  {
   "cell_type": "code",
   "execution_count": 235,
   "id": "96e04236",
   "metadata": {},
   "outputs": [],
   "source": [
    "kml_path = r\"C:\\Users\\oula.aabkari\\Desktop\\Nedo_Test\\My Places.kml\""
   ]
  },
  {
   "cell_type": "code",
   "execution_count": 236,
   "id": "5c4eaa66",
   "metadata": {},
   "outputs": [],
   "source": [
    "#Using pyxml\n",
    "def kml_parser2(kml_path):\n",
    "    \"\"\"\n",
    "    Opens .kml file and gets the coordinates\n",
    "    outputs a dataframe with pin names and their coordinates\n",
    "    \"\"\"\n",
    "    df = pd.DataFrame(columns=['pin_name','lons','lats','avg_speed','img_src'])\n",
    "\n",
    "    xmlns = '{http://www.opengis.net/kml/2.2}'\n",
    "\n",
    "    with open(kml_path,'r') as p:\n",
    "        root = parser.parse(p).getroot()\n",
    "        pms = root.findall('.//{}Placemark'.format(xmlns))\n",
    "        for p in pms:\n",
    "            if len(p.attrib) == 0:\n",
    "                df = df.append({'pin_name':p.name.text,\n",
    "                                'lons':float(p.Point.coordinates.text.split(',')[0]),\n",
    "                                'lats':float(p.Point.coordinates.text.split(',')[1])},\n",
    "                               ignore_index=True)\n",
    "    #df[['lons','lats']] = df['coordinates'].str.split(',',expand=True)[[0,1]]\n",
    "    df.drop_duplicates(inplace=True)\n",
    "    \n",
    "    return df"
   ]
  },
  {
   "cell_type": "code",
   "execution_count": 237,
   "id": "a4ba5e8a",
   "metadata": {},
   "outputs": [],
   "source": [
    "#Using lxml\n",
    "def kml_parser(kml_path):\n",
    "    \"\"\"\n",
    "    Opens .kml file and gets the coordinates\n",
    "    outputs a dataframe with pin names and their coordinates\n",
    "    \"\"\"\n",
    "    df = pd.DataFrame(columns=['pin_name','lons','lats','avg_speed','img_src'])\n",
    "\n",
    "    xmlns = '{http://www.opengis.net/kml/2.2}'\n",
    "\n",
    "    with open(kml_path,'r') as myxml:\n",
    "        root = etree.parse(myxml)\n",
    "        placemarks = root.findall('.//{}Placemark'.format(xmlns))\n",
    "        for pm in placemarks:\n",
    "            if len(pm.attrib) == 0:\n",
    "                name = pm.findtext('.//{}name'.format(xmlns))\n",
    "                #name = pm.findtext('{*}name')\n",
    "                point = pm.find('.//{}Point'.format(xmlns))\n",
    "                coordinates = point.findtext('.//{}coordinates'.format(xmlns))\n",
    "                df = df.append({'pin_name':name,\n",
    "                                'lons':float(coordinates.split(',')[0]),\n",
    "                                'lats':float(coordinates.split(',')[1])},\n",
    "                               ignore_index=True)\n",
    "    #df[['lons','lats']] = df['coordinates'].str.split(',',expand=True)[[0,1]]\n",
    "    df.drop_duplicates(inplace=True)\n",
    "    \n",
    "    return df"
   ]
  },
  {
   "cell_type": "code",
   "execution_count": 238,
   "id": "9b302633",
   "metadata": {},
   "outputs": [],
   "source": [
    "def coords_converter(coord):\n",
    "    \"\"\"\n",
    "    Converts the coordinates \n",
    "    from float to degs, mins, secs\n",
    "    \"\"\"    \n",
    "    mnt,sec = divmod(coord*3600,60)\n",
    "    deg,mnt = divmod(mnt,60)\n",
    "    return(round(deg),round(mnt),round(sec))"
   ]
  },
  {
   "cell_type": "code",
   "execution_count": 239,
   "id": "6de9c21b",
   "metadata": {},
   "outputs": [],
   "source": [
    "#USING PYXML + LXML\n",
    "def kml_writer2(kml_path):\n",
    "    \"\"\"\n",
    "    Writes the wind rose source image to the kml file\n",
    "    \"\"\"\n",
    "    xmlns = '{http://www.opengis.net/kml/2.2}'\n",
    "\n",
    "    with open(kml_path,'r') as myxml:\n",
    "        root = parser.parse(myxml)\n",
    "        placemarks = root.findall('.//{}Placemark'.format(xmlns))\n",
    "\n",
    "        for pm in placemarks:\n",
    "            if len(pm.attrib) == 0:\n",
    "                name = pm.name\n",
    "                img_src = df['img_src'][df['pin_name']==name].iloc[0]\n",
    "\n",
    "                if pm.countchildren() == 5:\n",
    "                    pm.description._setText(etree.CDATA(pm.description.text +' <img src=\"{}\">'.format(img_src)))\n",
    "                else:\n",
    "                    description = etree.SubElement(pm,'description')  \n",
    "                    description._setText(etree.CDATA('<img src=\"{}\">'.format(img_src)))\n",
    "        root.write(r\"C:\\Users\\oula.aabkari\\Desktop\\Nedo_Test\\test3.kml\",encoding='utf-8')"
   ]
  },
  {
   "cell_type": "code",
   "execution_count": 243,
   "id": "28b28e3e",
   "metadata": {},
   "outputs": [],
   "source": [
    "#Using LXML\n",
    "def kml_writer(kml_path):\n",
    "    \"\"\"\n",
    "    Writes the wind rose source image to the kml file\n",
    "    \"\"\"\n",
    "    xmlns = '{http://www.opengis.net/kml/2.2}'\n",
    "\n",
    "    with open(kml_path,'r') as myxml:\n",
    "        root = etree.parse(myxml)\n",
    "        placemarks = root.findall('.//{}Placemark'.format(xmlns))\n",
    "\n",
    "        for pm in placemarks:\n",
    "            if len(pm.attrib) == 0:\n",
    "                name = pm.findtext('.//{}name'.format(xmlns))\n",
    "                \n",
    "                #Add image source to the description\n",
    "                img_src = df['img_src'][df['pin_name']==name].iloc[0]\n",
    "                \n",
    "                if len(pm.getchildren()) == 5: \n",
    "                    description = pm.find('.//{}description'.format(xmlns))\n",
    "                    description.text = etree.CDATA(description.text +' <img src=\"{}\">'.format(img_src))\n",
    "                else:\n",
    "                    description = etree.SubElement(pm,'description')  \n",
    "                    description.text = etree.CDATA('<img src=\"{}\">'.format(img_src))\n",
    "\n",
    "                #Change the name to the average speed:\n",
    "                avg_speed = df['avg_speed'][df['pin_name']==name].iloc[0]\n",
    "                name = str(avg_speed)\n",
    "\n",
    "                style = pm.find('.//{}styleUrl'.format(xmlns))\n",
    "\n",
    "                if avg_speed < 6:\n",
    "                    style.text = '#m_grn-pushpin'\n",
    "                elif avg_speed >= 6.5:\n",
    "                    style.text = '#m_red-pushpin'                 \n",
    "        \n",
    "        file_name = datetime.now().strftime('%d-%m-%Y-%H%M%S.kml')\n",
    "        root.write(file_name,encoding='utf-8')"
   ]
  },
  {
   "cell_type": "code",
   "execution_count": 241,
   "id": "aaeb4dd9",
   "metadata": {},
   "outputs": [
    {
     "ename": "NameError",
     "evalue": "name 'join' is not defined",
     "output_type": "error",
     "traceback": [
      "\u001b[1;31m---------------------------------------------------------------------------\u001b[0m",
      "\u001b[1;31mNameError\u001b[0m                                 Traceback (most recent call last)",
      "\u001b[1;32m<ipython-input-241-9081c7b86d68>\u001b[0m in \u001b[0;36m<module>\u001b[1;34m\u001b[0m\n\u001b[0;32m      7\u001b[0m     \u001b[0mserver_base\u001b[0m \u001b[1;33m=\u001b[0m \u001b[1;34m\"//192.168.2.37/02_ShareFolder_for_Script/\"\u001b[0m\u001b[1;33m\u001b[0m\u001b[1;33m\u001b[0m\u001b[0m\n\u001b[0;32m      8\u001b[0m \u001b[1;33m\u001b[0m\u001b[0m\n\u001b[1;32m----> 9\u001b[1;33m \u001b[0mtarget_dir\u001b[0m \u001b[1;33m=\u001b[0m \u001b[0mjoin\u001b[0m\u001b[1;33m(\u001b[0m\u001b[0mserver_base\u001b[0m\u001b[1;33m,\u001b[0m \u001b[1;34m\"\"\u001b[0m\u001b[1;33m)\u001b[0m\u001b[1;33m\u001b[0m\u001b[1;33m\u001b[0m\u001b[0m\n\u001b[0m\u001b[0;32m     10\u001b[0m \u001b[1;33m\u001b[0m\u001b[0m\n\u001b[0;32m     11\u001b[0m \u001b[0mremote_temp_path\u001b[0m \u001b[1;33m=\u001b[0m \u001b[1;34m\"/etc/KML_Map_Processor/Temp_Files\"\u001b[0m\u001b[1;33m\u001b[0m\u001b[1;33m\u001b[0m\u001b[0m\n",
      "\u001b[1;31mNameError\u001b[0m: name 'join' is not defined"
     ]
    }
   ],
   "source": [
    "try:\n",
    "    if isdir(\"/mnt/M/\"):\n",
    "        server_base = \"/mnt/M/\"\n",
    "    else:\n",
    "        server_base = \"//192.168.2.37/02_ShareFolder_for_Script/\"\n",
    "except:\n",
    "    server_base = \"//192.168.2.37/02_ShareFolder_for_Script/\"\n",
    "    \n",
    "target_dir = join(server_base, \"\")\n",
    "\n",
    "remote_temp_path = \"/etc/KML_Map_Processor/Temp_Files\"\n",
    "\n",
    "\n",
    "if len(listdir(target_dir)) > 0:\n",
    "    for file in listdir(target_dir):\n",
    "        if isfile(join(target_dir, file)) and file.endswith((\".KML\", \".kml\")):\n",
    "            print(\"Processing:\", file)\n",
    "            print()\n",
    "\n",
    "            get_file = join(target_dir, file)\n",
    "            put_file = join(remote_temp_path, file)\n",
    "\n",
    "get_remote_files(get_file,put_file)"
   ]
  },
  {
   "cell_type": "code",
   "execution_count": 242,
   "id": "b030c19f",
   "metadata": {},
   "outputs": [],
   "source": [
    "# GET REMOTE FILES FROM EC2byRHYS TO EC2byME\n",
    "def get_remote_files(get_file,put_file):\n",
    "    hostname = '192.168.2.26'\n",
    "    port = 22\n",
    "    username = \"gpss\"\n",
    "    password = 'gpss2018'\n",
    "    \n",
    "    ssh = SSHClient()\n",
    "    ssh.set_missing_host_key_policy(AutoAddPolicy())\n",
    "\n",
    "    ssh.connect(hostname=hostname, port=port,username=username, password=password)\n",
    "    \n",
    "    sftp = ssh.open_sftp()\n",
    "    \n",
    "    sftp.get(get_file,put_file)\n",
    "    sftp.close()\n",
    "    ssh.close()"
   ]
  },
  {
   "cell_type": "code",
   "execution_count": null,
   "id": "000a42b1",
   "metadata": {},
   "outputs": [],
   "source": []
  },
  {
   "cell_type": "code",
   "execution_count": 17,
   "id": "db4349ad",
   "metadata": {},
   "outputs": [],
   "source": []
  },
  {
   "cell_type": "code",
   "execution_count": 146,
   "id": "9149bbdc",
   "metadata": {},
   "outputs": [],
   "source": []
  },
  {
   "cell_type": "code",
   "execution_count": null,
   "id": "faeb01bd",
   "metadata": {},
   "outputs": [],
   "source": []
  },
  {
   "cell_type": "code",
   "execution_count": null,
   "id": "3c42c320",
   "metadata": {},
   "outputs": [],
   "source": []
  },
  {
   "cell_type": "code",
   "execution_count": null,
   "id": "b920a928",
   "metadata": {},
   "outputs": [],
   "source": []
  },
  {
   "cell_type": "code",
   "execution_count": 68,
   "id": "9c751053",
   "metadata": {},
   "outputs": [],
   "source": []
  },
  {
   "cell_type": "markdown",
   "id": "97578b7f",
   "metadata": {},
   "source": [
    "# Useful Links\n",
    "- URL to PIL Image:\n",
    "https://stackoverflow.com/questions/7391945/how-do-i-read-image-data-from-a-url-in-python\n",
    "\n",
    "- np.Array img to PIL Image:\n",
    "https://stackoverflow.com/questions/10965417/how-to-convert-a-numpy-array-to-pil-image-applying-matplotlib-colormap"
   ]
  },
  {
   "cell_type": "markdown",
   "id": "d0dcd3f3",
   "metadata": {},
   "source": [
    "# EADAS"
   ]
  },
  {
   "cell_type": "code",
   "execution_count": null,
   "id": "347326c7",
   "metadata": {},
   "outputs": [],
   "source": []
  },
  {
   "cell_type": "code",
   "execution_count": null,
   "id": "8124fe33",
   "metadata": {},
   "outputs": [],
   "source": []
  },
  {
   "cell_type": "code",
   "execution_count": null,
   "id": "047a877d",
   "metadata": {},
   "outputs": [],
   "source": []
  },
  {
   "cell_type": "markdown",
   "id": "ce8c263e",
   "metadata": {},
   "source": [
    "# Search On Google"
   ]
  },
  {
   "cell_type": "code",
   "execution_count": 8,
   "id": "778ff7ba",
   "metadata": {},
   "outputs": [
    {
     "name": "stderr",
     "output_type": "stream",
     "text": [
      "<ipython-input-8-ddefbd3e980c>:2: DeprecationWarning: executable_path has been deprecated, please pass in a Service object\n",
      "  driver = webdriver.Chrome(PATH)  #set up the driver\n"
     ]
    }
   ],
   "source": [
    "PATH = r\"C:\\Program Files (x86)\\chromedriver.exe\"\n",
    "driver = webdriver.Chrome(PATH)  #set up the driver"
   ]
  },
  {
   "cell_type": "code",
   "execution_count": 9,
   "id": "555ed013",
   "metadata": {},
   "outputs": [],
   "source": [
    "driver.get('https://www.google.com/')\n",
    "\n",
    "#Search for #Types of Chicken on the goofle search bar\n",
    "search_bar = driver.find_element(by='xpath',value='/html/body/div[1]/div[3]/form/div[1]/div[1]/div[1]/div/div[2]/input')\n",
    "search_bar.clear()  #clear the search bar to make sure that it's empty\n",
    "\n",
    "search_bar.send_keys(\"types of chicken\")\n",
    "search_bar.send_keys(Keys.RETURN)  #Keys.RETURN = Enter key\n",
    "\n",
    "time.sleep(5) #to give us 5sec to see the search results before it closes\n",
    "#To wait only as long as required check:\n",
    "#https://selenium-python.readthedocs.io/waits.html\n",
    "\n",
    "driver.back()    #go back to the previous page <--\n",
    "driver.forward() # -->\n",
    "\n",
    "driver.quit()"
   ]
  },
  {
   "cell_type": "code",
   "execution_count": null,
   "id": "a2e2f688",
   "metadata": {},
   "outputs": [],
   "source": []
  },
  {
   "cell_type": "code",
   "execution_count": null,
   "id": "ccd26f75",
   "metadata": {},
   "outputs": [],
   "source": []
  }
 ],
 "metadata": {
  "kernelspec": {
   "display_name": "Python 3",
   "language": "python",
   "name": "python3"
  },
  "language_info": {
   "codemirror_mode": {
    "name": "ipython",
    "version": 3
   },
   "file_extension": ".py",
   "mimetype": "text/x-python",
   "name": "python",
   "nbconvert_exporter": "python",
   "pygments_lexer": "ipython3",
   "version": "3.8.8"
  }
 },
 "nbformat": 4,
 "nbformat_minor": 5
}
